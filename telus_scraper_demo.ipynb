{
 "cells": [
  {
   "cell_type": "code",
   "execution_count": 20,
   "metadata": {},
   "outputs": [],
   "source": [
    "from bs4 import BeautifulSoup as soup\n",
    "import requests as req\n",
    "import datetime"
   ]
  },
  {
   "cell_type": "code",
   "execution_count": 33,
   "metadata": {},
   "outputs": [],
   "source": [
    "def get_telus_pharm_avail(pharma_id):\n",
    "    \n",
    "    # get the html and parse it using beautiful soup\n",
    "    url = f'https://pharmaconnect.ca/Appointment/{pharma_id}/Slots?serviceType=ImmunizationCovid'\n",
    "    \n",
    "    html = req.get(url)\n",
    "    \n",
    "    html_soup = soup(html.text, 'html.parser')\n",
    "    \n",
    "    # find the dates currently on the page, and add them to a list\n",
    "    html_dates = html_soup.findAll('div', class_='b-days-selection appointment-availability__days-item')\n",
    "    dates = [i.get('data-selected-id') for i in html_dates]\n",
    "    \n",
    "    slots_data = {}\n",
    "    # get all the slot availabilites for both days and add to a dictionary\n",
    "    for date in dates:\n",
    "        \n",
    "        slots_data[date] = []\n",
    "        \n",
    "        date_html = html_soup.find(id=date)\n",
    "        \n",
    "        date_slots = date_html.findAll('div', class_=\"appointment-availability__period-text\")\n",
    "        \n",
    "        for i in date_slots:\n",
    "            slots_data[date].append(i.get_text())\n",
    "    \n",
    "    resp = {}\n",
    "    # for each day, create a response object friendly to vacc hunters API (wip)\n",
    "    for key in slots_data.keys():\n",
    "        resp[key] = {}\n",
    "\n",
    "        resp[key]['numberAvailable'] = len(slots_data[key]) + 1\n",
    "        resp[key]['numberTotal'] = len(slots_data[key]) + 1\n",
    "        resp[key]['date'] = key\n",
    "        resp[key]['vaccine'] = 0\n",
    "        resp[key]['inputType'] = 1\n",
    "        resp[key]['tags'] = 'Telus'\n",
    "        resp[key]['location'] = 0\n",
    "    \n",
    "    return resp\n",
    "    "
   ]
  },
  {
   "cell_type": "code",
   "execution_count": 34,
   "metadata": {},
   "outputs": [
    {
     "data": {
      "text/plain": [
       "{'2021-05-11': {'numberAvailable': 13,\n",
       "  'numberTotal': 13,\n",
       "  'date': '2021-05-11',\n",
       "  'vaccine': 0,\n",
       "  'inputType': 1,\n",
       "  'tags': 'Telus',\n",
       "  'location': 0},\n",
       " '2021-05-12': {'numberAvailable': 16,\n",
       "  'numberTotal': 16,\n",
       "  'date': '2021-05-12',\n",
       "  'vaccine': 0,\n",
       "  'inputType': 1,\n",
       "  'tags': 'Telus',\n",
       "  'location': 0}}"
      ]
     },
     "execution_count": 34,
     "metadata": {},
     "output_type": "execute_result"
    }
   ],
   "source": [
    "get_telus_pharm_avail('8ab18efb-b158-4ca1-8103-34792852814d')"
   ]
  },
  {
   "cell_type": "code",
   "execution_count": null,
   "metadata": {},
   "outputs": [],
   "source": []
  }
 ],
 "metadata": {
  "kernelspec": {
   "display_name": "Python 3",
   "language": "python",
   "name": "python3"
  },
  "language_info": {
   "codemirror_mode": {
    "name": "ipython",
    "version": 3
   },
   "file_extension": ".py",
   "mimetype": "text/x-python",
   "name": "python",
   "nbconvert_exporter": "python",
   "pygments_lexer": "ipython3",
   "version": "3.8.5"
  }
 },
 "nbformat": 4,
 "nbformat_minor": 4
}
